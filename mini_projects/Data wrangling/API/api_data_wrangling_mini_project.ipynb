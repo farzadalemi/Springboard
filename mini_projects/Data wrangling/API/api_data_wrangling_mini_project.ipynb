{
 "cells": [
  {
   "cell_type": "markdown",
   "metadata": {},
   "source": [
    "This exercise will require you to pull some data from the Qunadl API. Qaundl is currently the most widely used aggregator of financial market data."
   ]
  },
  {
   "cell_type": "markdown",
   "metadata": {},
   "source": [
    "As a first step, you will need to register a free account on the http://www.quandl.com website."
   ]
  },
  {
   "cell_type": "markdown",
   "metadata": {},
   "source": [
    "After you register, you will be provided with a unique API key, that you should store:"
   ]
  },
  {
   "cell_type": "code",
   "execution_count": 1,
   "metadata": {
    "collapsed": true
   },
   "outputs": [],
   "source": [
    "# Store the API key as a string - according to PEP8, constants are always named in all upper case\n",
    "API_KEY = '8t6zWoonhM2TzSqf45_t'"
   ]
  },
  {
   "cell_type": "markdown",
   "metadata": {},
   "source": [
    "Qaundl has a large number of data sources, but, unfortunately, most of them require a Premium subscription. Still, there are also a good number of free datasets."
   ]
  },
  {
   "cell_type": "markdown",
   "metadata": {},
   "source": [
    "For this mini project, we will focus on equities data from the Frankfurt Stock Exhange (FSE), which is available for free. We'll try and analyze the stock prices of a company called Carl Zeiss Meditec, which manufactures tools for eye examinations, as well as medical lasers for laser eye surgery: https://www.zeiss.com/meditec/int/home.html. The company is listed under the stock ticker AFX_X."
   ]
  },
  {
   "cell_type": "markdown",
   "metadata": {},
   "source": [
    "You can find the detailed Quandl API instructions here: https://docs.quandl.com/docs/time-series"
   ]
  },
  {
   "cell_type": "markdown",
   "metadata": {},
   "source": [
    "While there is a dedicated Python package for connecting to the Quandl API, we would prefer that you use the *requests* package, which can be easily downloaded using *pip* or *conda*. You can find the documentation for the package here: http://docs.python-requests.org/en/master/ "
   ]
  },
  {
   "cell_type": "markdown",
   "metadata": {},
   "source": [
    "Finally, apart from the *requests* package, you are encouraged to not use any third party Python packages, such as *pandas*, and instead focus on what's available in the Python Standard Library (the *collections* module might come in handy: https://pymotw.com/3/collections/).\n",
    "Also, since you won't have access to DataFrames, you are encouraged to us Python's native data structures - preferably dictionaries, though some questions can also be answered using lists.\n",
    "You can read more on these data structures here: https://docs.python.org/3/tutorial/datastructures.html"
   ]
  },
  {
   "cell_type": "markdown",
   "metadata": {},
   "source": [
    "Keep in mind that the JSON responses you will be getting from the API map almost one-to-one to Python's dictionaries. Unfortunately, they can be very nested, so make sure you read up on indexing dictionaries in the documentation provided above."
   ]
  },
  {
   "cell_type": "code",
   "execution_count": 2,
   "metadata": {
    "collapsed": true
   },
   "outputs": [],
   "source": [
    "# First, import the relevant modules\n",
    "import requests\n",
    "import json"
   ]
  },
  {
   "cell_type": "code",
   "execution_count": 4,
   "metadata": {},
   "outputs": [],
   "source": [
    "# Now, call the Quandl API and pull out a small sample of the data (only one day) to get a glimpse\n",
    "# into the JSON structure that will be returned\n",
    "quandl_url = 'https://www.quandl.com/api/v3/datasets/FSE/AFX_X.json'\n",
    "query_param = {'start_date':'2017-01-01','end_date':'2017-01-02','collapse': 'daily','transform':'none','api_key':API_KEY}\n",
    "request = requests.get(url = quandl_url, params = query_param)"
   ]
  },
  {
   "cell_type": "code",
   "execution_count": 5,
   "metadata": {},
   "outputs": [
    {
     "data": {
      "text/plain": [
       "{'dataset': {'collapse': 'daily',\n",
       "  'column_index': None,\n",
       "  'column_names': ['Date',\n",
       "   'Open',\n",
       "   'High',\n",
       "   'Low',\n",
       "   'Close',\n",
       "   'Change',\n",
       "   'Traded Volume',\n",
       "   'Turnover',\n",
       "   'Last Price of the Day',\n",
       "   'Daily Traded Units',\n",
       "   'Daily Turnover'],\n",
       "  'data': [['2017-01-02',\n",
       "    34.99,\n",
       "    35.94,\n",
       "    34.99,\n",
       "    35.8,\n",
       "    None,\n",
       "    44700.0,\n",
       "    1590561.0,\n",
       "    None,\n",
       "    None,\n",
       "    None]],\n",
       "  'database_code': 'FSE',\n",
       "  'database_id': 6129,\n",
       "  'dataset_code': 'AFX_X',\n",
       "  'description': 'Stock Prices for Carl Zeiss Meditec (AFX) from the Frankfurt Stock Exchange.<br><br>Trading System: Xetra<br><br>ISIN: DE0005313704',\n",
       "  'end_date': '2017-01-02',\n",
       "  'frequency': 'daily',\n",
       "  'id': 10095370,\n",
       "  'limit': None,\n",
       "  'name': 'Carl Zeiss Meditec (AFX_X)',\n",
       "  'newest_available_date': '2019-06-21',\n",
       "  'oldest_available_date': '2000-06-07',\n",
       "  'order': None,\n",
       "  'premium': False,\n",
       "  'refreshed_at': '2019-06-21T22:31:22.788Z',\n",
       "  'start_date': '2017-01-01',\n",
       "  'transform': None,\n",
       "  'type': 'Time Series'}}"
      ]
     },
     "execution_count": 5,
     "metadata": {},
     "output_type": "execute_result"
    }
   ],
   "source": [
    "# Inspect the JSON structure of the object you created, and take note of how nested it is,\n",
    "# as well as the overall structure\n",
    "json.loads(request.content.decode('utf-8'))"
   ]
  },
  {
   "cell_type": "markdown",
   "metadata": {},
   "source": [
    "These are your tasks for this mini project:\n",
    "\n",
    "1. Collect data from the Franfurt Stock Exchange, for the ticker AFX_X, for the whole year 2017 (keep in mind that the date format is YYYY-MM-DD).\n",
    "2. Convert the returned JSON object into a Python dictionary.\n",
    "3. Calculate what the highest and lowest opening prices were for the stock in this period.\n",
    "4. What was the largest change in any one day (based on High and Low price)?\n",
    "5. What was the largest change between any two days (based on Closing Price)?\n",
    "6. What was the average daily trading volume during this year?\n",
    "7. (Optional) What was the median trading volume during this year. (Note: you may need to implement your own function for calculating the median.)"
   ]
  },
  {
   "cell_type": "code",
   "execution_count": 6,
   "metadata": {
    "collapsed": true
   },
   "outputs": [],
   "source": [
    "# ANSWER to Q1 and Q2\n",
    "def get_quandl(transformed, query_param = {'start_date':'2017-01-01',\n",
    "                                           'end_date':'2017-12-31',\n",
    "                                           'collapse': 'daily','transform':'none', \n",
    "                                           'api_key':API_KEY}):\n",
    "    \"\"\" This function return the requested values as below \"\"\"\n",
    "    # base url for quandl\n",
    "    quandl_url = 'https://www.quandl.com/api/v3/datasets/FSE/AFX_X.json'\n",
    "    \n",
    "    # creating empty dictionary for parsing data into dictionary\n",
    "    dic_out = {}\n",
    "    \n",
    "    # send a request with url and parameters\n",
    "    if transformed == 0:\n",
    "        non_transformed = requests.get(url = quandl_url, params = query_param)\n",
    "        if (non_transformed.ok):\n",
    "            non_transformed_data = json.loads(non_transformed.content.decode('utf-8'))\n",
    "            for ls in non_transformed_data['dataset']['data']:\n",
    "                dic_out[ls[0]] = [ls[1], ls[2], ls[3], ls[4], ls[5], ls[6], ls[7], ls[8], ls[9], ls[10]]\n",
    "        else:\n",
    "            non_transformed.raise_for_status()\n",
    "\n",
    "    else:\n",
    "        transformed == 1\n",
    "        query_param['transform'] = 'diff'\n",
    "        transformed = requests.get(url = quandl_url, params = query_param)\n",
    "        if (transformed.ok):\n",
    "            transformed_data = json.loads(transformed.content.decode('utf-8'))\n",
    "            for ls in transformed_data['dataset']['data']:\n",
    "                dic_out[ls[0]] = [ls[1], ls[2], ls[3], ls[4], ls[5], ls[6], ls[7], ls[8], ls[9], ls[10]]\n",
    "        else:\n",
    "            transformed.raise_for_status()\n",
    "\n",
    "    return dic_out\n",
    "    \n",
    "non_transformed = get_quandl(0)\n",
    "# transformed = get_quandl(1)"
   ]
  },
  {
   "cell_type": "code",
   "execution_count": 7,
   "metadata": {},
   "outputs": [
    {
     "name": "stdout",
     "output_type": "stream",
     "text": [
      " The max opening is 53.11 happened on 2017-12-14.\n",
      " The min opening is 34.0 happened on 2017-01-24.\n"
     ]
    }
   ],
   "source": [
    "# ANSWER Q3: finding the max and min of openning\n",
    "def max_min_opening(data_dic):\n",
    "    opening = {}\n",
    "    for key, value in data_dic.items():\n",
    "        if value[0] != None:\n",
    "            opening[key] = value[0]\n",
    "    print(f\" The max opening is {opening[max(opening, key=opening.get)]} happened on {max(opening, key=opening.get)}.\")\n",
    "    print(f\" The min opening is {opening[min(opening, key=opening.get)]} happened on {min(opening, key=opening.get)}.\")\n",
    "\n",
    "max_min_opening(non_transformed)"
   ]
  },
  {
   "cell_type": "code",
   "execution_count": 8,
   "metadata": {},
   "outputs": [
    {
     "name": "stdout",
     "output_type": "stream",
     "text": [
      " The largest daily change was at 2.81 on 2017-05-11.\n",
      " The smallest daily change was at 0.19 on 2017-09-08.\n"
     ]
    }
   ],
   "source": [
    "# ANSWER Q4: finding the largest and smallest daily change in one day\n",
    "def largest_dailychange(data_dic):\n",
    "    change = {}\n",
    "    for key, value in data_dic.items():\n",
    "        if value[1] != None and value[2] !=None:\n",
    "            change[key] = abs(value[1] - value[2])\n",
    "    print(f\" The largest daily change was at {round(change[max(change, key=change.get)],2)} on {max(change, key=change.get)}.\")\n",
    "    print(f\" The smallest daily change was at {round(change[min(change, key=change.get)],2)} on {min(change, key=change.get)}.\")\n",
    "\n",
    "largest_dailychange(non_transformed)"
   ]
  },
  {
   "cell_type": "code",
   "execution_count": 9,
   "metadata": {},
   "outputs": [
    {
     "name": "stdout",
     "output_type": "stream",
     "text": [
      "The average daily volum is 43.36415686274505.\n"
     ]
    }
   ],
   "source": [
    "# ANSWER Q6: avg trading volume\n",
    "def average_trading_volume(data_dic):\n",
    "    daily_vol = []\n",
    "    for key, value in data_dic.items():\n",
    "        if value[5] != None:\n",
    "            daily_vol.append(value[3])\n",
    "    print(f\"The average daily volum is {sum(daily_vol)/len(daily_vol)}.\")\n",
    "\n",
    "average_trading_volume(non_transformed)"
   ]
  },
  {
   "cell_type": "code",
   "execution_count": 10,
   "metadata": {},
   "outputs": [
    {
     "name": "stdout",
     "output_type": "stream",
     "text": [
      "The median of daily trading volume is 43.28\n"
     ]
    }
   ],
   "source": [
    "# ANSWER Q7: median trading volume\n",
    "def median_trading_volume(data_dic):\n",
    "    daily_vol = []\n",
    "    for key, value in data_dic.items():\n",
    "        if value[5] != None:\n",
    "            daily_vol.append(value[3])\n",
    "    ln = len(daily_vol)\n",
    "    indx = (ln -1) // 2\n",
    "    \n",
    "    if (ln % 2):\n",
    "        median = sorted(daily_vol)[indx]\n",
    "    else:\n",
    "        median = (sorted(daily_vol)[indx] + sorted(daily_vol)[indx + 1])/2.0\n",
    "    print(f\"The median of daily trading volume is {median}\")   \n",
    "\n",
    "median_trading_volume(non_transformed)"
   ]
  }
 ],
 "metadata": {
  "kernelspec": {
   "display_name": "Python 3",
   "language": "python",
   "name": "python3"
  },
  "language_info": {
   "codemirror_mode": {
    "name": "ipython",
    "version": 3
   },
   "file_extension": ".py",
   "mimetype": "text/x-python",
   "name": "python",
   "nbconvert_exporter": "python",
   "pygments_lexer": "ipython3",
   "version": "3.6.2"
  }
 },
 "nbformat": 4,
 "nbformat_minor": 2
}
